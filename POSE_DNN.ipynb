{
  "cells": [
    {
      "cell_type": "markdown",
      "source": [
        "This script is designed to create a deep neural network that will predict the fractional cover of Poa secunda within the big sagebrush region. The model is built on data collected by the BLM for their AIM monitoring protocol and is open to public use. The network created here has four hidden layers.\n",
        "\n"
      ],
      "metadata": {
        "id": "mWlpZVPcWYmk"
      }
    },
    {
      "cell_type": "code",
      "execution_count": null,
      "metadata": {
        "id": "md2e238GOVP9"
      },
      "outputs": [],
      "source": [
        "import pandas as pd\n",
        "from sklearn.compose import ColumnTransformer\n",
        "from sklearn.preprocessing import StandardScaler\n",
        "from sklearn.preprocessing import Normalizer\n",
        "from tensorflow.keras.callbacks import EarlyStopping\n",
        "from sklearn.model_selection import train_test_split\n",
        "from tensorflow.keras.models import Sequential\n",
        "from tensorflow.keras.layers import InputLayer\n",
        "from tensorflow.keras import layers\n",
        "from tensorflow.keras.layers import Dense\n",
        "from tensorflow.keras.optimizers import SGD\n",
        "from tensorflow.keras.optimizers import Adam\n",
        "import matplotlib.pyplot as plt"
      ]
    },
    {
      "cell_type": "code",
      "execution_count": null,
      "metadata": {
        "colab": {
          "base_uri": "https://localhost:8080/"
        },
        "id": "7sZN89Tiy98G",
        "outputId": "7ebcdf5b-1525-4804-cdee-becbfcab062d"
      },
      "outputs": [
        {
          "output_type": "stream",
          "name": "stdout",
          "text": [
            "Mounted at /content/drive\n"
          ]
        }
      ],
      "source": [
        "from google.colab import drive\n",
        "drive.mount('/content/drive')"
      ]
    },
    {
      "cell_type": "markdown",
      "source": [
        "Load in the dataset"
      ],
      "metadata": {
        "id": "yu8SlsN0Voit"
      }
    },
    {
      "cell_type": "code",
      "execution_count": null,
      "metadata": {
        "id": "KZGZsCiJz3XS"
      },
      "outputs": [],
      "source": [
        "dataset = pd.read_csv('/content/POINT_DATA_FINAL.csv')"
      ]
    },
    {
      "cell_type": "markdown",
      "source": [
        "Look at the data"
      ],
      "metadata": {
        "id": "dd_tEkIVVqfr"
      }
    },
    {
      "cell_type": "code",
      "execution_count": null,
      "metadata": {
        "id": "5YacLg9ez5mk"
      },
      "outputs": [],
      "source": [
        "print(dataset.head())"
      ]
    },
    {
      "cell_type": "markdown",
      "source": [
        "Drop the variables that are not of interest for this model"
      ],
      "metadata": {
        "id": "dYC39mk4Vr2u"
      }
    },
    {
      "cell_type": "code",
      "execution_count": null,
      "metadata": {
        "id": "ll74sgkq0x6Q"
      },
      "outputs": [],
      "source": [
        "dataset = dataset.drop(['deep.silt','deep.clay','deep.sand','deep.rock','deep.efferv','DateVisited','Unnamed: 0',\n",
        "                        'Unnamed: 0.1','PrimaryKey','POSE_count','Unnamed: 0.1.1','NEAR_DIST',\n",
        "                        'Spp_Sagebrush'],axis=1)"
      ]
    },
    {
      "cell_type": "markdown",
      "source": [
        "Look at the order of the columns"
      ],
      "metadata": {
        "id": "oPrDEJmRVwT1"
      }
    },
    {
      "cell_type": "code",
      "execution_count": null,
      "metadata": {
        "id": "D0tkQWzR1V7p"
      },
      "outputs": [],
      "source": [
        "print(dataset.columns.tolist())"
      ]
    },
    {
      "cell_type": "markdown",
      "source": [
        "Get a first look at the data"
      ],
      "metadata": {
        "id": "RM9oQ19DVyt3"
      }
    },
    {
      "cell_type": "code",
      "execution_count": null,
      "metadata": {
        "id": "rCgJZsQM16y3"
      },
      "outputs": [],
      "source": [
        "print(dataset.describe())"
      ]
    },
    {
      "cell_type": "markdown",
      "source": [
        "The variable that we are wanting to predict for is POSE_cover (1st column)"
      ],
      "metadata": {
        "id": "666qI2osWlxE"
      }
    },
    {
      "cell_type": "code",
      "source": [
        "labels = dataset.iloc[:,0]\n",
        "features = dataset.iloc[:,1:]"
      ],
      "metadata": {
        "id": "A2dOnVCCWk72"
      },
      "execution_count": null,
      "outputs": []
    },
    {
      "cell_type": "markdown",
      "source": [
        "Normalize the numerical data and create dummy variables for categorical data"
      ],
      "metadata": {
        "id": "_elbjbnUWyyy"
      }
    },
    {
      "cell_type": "code",
      "source": [
        "features = pd.get_dummies(dataset)\n",
        "features_train, features_test, labels_train, labels_test = train_test_split(features,labels,test_size = 0.33, random_state = 1234)\n",
        "numerical_features = features.select_dtypes(include=['float64','int64'])\n",
        "numerical_columns = numerical_features.columns\n",
        "ct = ColumnTransformer([('only numeric',StandardScaler(),numerical_columns)],remainder='passthrough')\n",
        "features_train_scaled = ct.fit_transform(features_train)\n",
        "features_test_scaled = ct.transform(features_test)"
      ],
      "metadata": {
        "id": "FU9Sj8I0W4x-"
      },
      "execution_count": null,
      "outputs": []
    },
    {
      "cell_type": "markdown",
      "source": [
        "Define a function that will create the model"
      ],
      "metadata": {
        "id": "CDT72e5cW8Tb"
      }
    },
    {
      "cell_type": "code",
      "source": [
        "def design_model(X, learning_rate):\n",
        "  my_model = Sequential()\n",
        "  input = InputLayer(input_shape=(features.shape[1],))\n",
        "  my_model.add(input)\n",
        "\n",
        "  my_model.add(Dense(1024,activation = 'relu'))\n",
        "  my_model.add(layers.BatchNormalization())\n",
        "  my_model.add(layers.Dropout(0.5))\n",
        "\n",
        "  my_model.add(Dense(512,activation='relu'))\n",
        "  my_model.add(layers.BatchNormalization())\n",
        "  my_model.add(layers.Dropout(0.5))\n",
        "\n",
        "  my_model.add(Dense(256,activation='relu'))\n",
        "  my_model.add(layers.BatchNormalization())\n",
        "  my_model.add(layers.Dropout(0.2))\n",
        "\n",
        "  my_model.add(Dense(256,activation='relu'))\n",
        "  my_model.add(layers.BatchNormalization())\n",
        "  my_model.add(layers.Dropout(0.4))\n",
        "  my_model.add(Dense(1))\n",
        "\n",
        "  #opt = Adam(learning_rate = 0.00001,decay=0.0005)\n",
        "  opt = SGD(learning_rate=learning_rate)\n",
        "  #print(my_model.summary())\n",
        "  my_model.compile(loss='mse',metrics=['mae'],optimizer=opt)\n",
        "  print(my_model.summary())\n",
        "  return my_model"
      ],
      "metadata": {
        "id": "9Jal-_rEW_8x"
      },
      "execution_count": null,
      "outputs": []
    },
    {
      "cell_type": "markdown",
      "source": [
        "Define a function that will fit the model to the data"
      ],
      "metadata": {
        "id": "U2nKfZM-XLrx"
      }
    },
    {
      "cell_type": "code",
      "source": [
        "def fit_model(model, f_train, l_train, learning_rate, num_epochs):\n",
        "    #train the model on the training data\n",
        "    es = EarlyStopping(monitor='val_loss', mode='min', verbose=1, patience = 20)\n",
        "    history = model.fit(f_train, l_train, epochs=num_epochs, batch_size= 2, verbose=0, validation_split = 0.2, callbacks = [es])\n",
        "    print('mae','mse')\n",
        "    return history"
      ],
      "metadata": {
        "id": "UqjhmDUOXOpw"
      },
      "execution_count": null,
      "outputs": []
    },
    {
      "cell_type": "markdown",
      "source": [
        "Define a function that will plot the mean squared error and the mean absolute error from model fitting"
      ],
      "metadata": {
        "id": "I8UGRPukXRdI"
      }
    },
    {
      "cell_type": "code",
      "execution_count": null,
      "metadata": {
        "id": "0mz5rg07OYlK"
      },
      "outputs": [],
      "source": [
        "def plot(history):\n",
        "    # plot learning curves\n",
        "    fig, axs = plt.subplots(1, 2, gridspec_kw={'hspace': 1, 'wspace': 0.8}) \n",
        "    (ax1, ax2) = axs\n",
        "    ax1.plot(history.history['loss'], label='train')\n",
        "    ax1.plot(history.history['val_loss'], label='validation')\n",
        "    ax1.set_title('lrate=' + str(learning_rate))\n",
        "    ax1.legend(loc=\"upper right\")\n",
        "    ax1.set_xlabel(\"# of epochs\")\n",
        "    ax1.set_ylabel(\"loss (mse)\")\n",
        "\n",
        "    ax2.plot(history.history['mae'], label='train')\n",
        "    ax2.plot(history.history['val_mae'], label='validation')\n",
        "    ax2.set_title('lrate=' + str(learning_rate))\n",
        "    ax2.legend(loc=\"upper right\")\n",
        "    ax2.set_xlabel(\"# of epochs\")\n",
        "    ax2.set_ylabel(\"MAE\")\n",
        "    print(\"Final validation MAE:\", history.history['val_mae'][-1])"
      ]
    },
    {
      "cell_type": "markdown",
      "source": [
        "Using the model described above, fit a model with a learning rate of 0.00001 and 10 epochs"
      ],
      "metadata": {
        "id": "BXjnnloUXrba"
      }
    },
    {
      "cell_type": "code",
      "execution_count": null,
      "metadata": {
        "id": "bWOUXL7O7MT7"
      },
      "outputs": [],
      "source": [
        "learning_rate = 0.00001\n",
        "num_epochs = 10\n",
        "model_run1= fit_model(design_model(features_train_scaled, learning_rate),\n",
        "                     features_train_scaled, \n",
        "                     labels_train, \n",
        "                     learning_rate, \n",
        "                     num_epochs)"
      ]
    },
    {
      "cell_type": "markdown",
      "source": [
        "Use the plot function on the model run created above"
      ],
      "metadata": {
        "id": "dGXSkscDX2nR"
      }
    },
    {
      "cell_type": "code",
      "execution_count": null,
      "metadata": {
        "colab": {
          "base_uri": "https://localhost:8080/",
          "height": 295
        },
        "id": "550gAa6OLyDW",
        "outputId": "0019d903-894e-4057-a41f-73b88eff5b94"
      },
      "outputs": [
        {
          "output_type": "display_data",
          "data": {
            "text/plain": [
              "<Figure size 432x288 with 2 Axes>"
            ],
            "image/png": "[encoded data removed]"
          },
          "metadata": {
            "needs_background": "light"
          }
        }
      ],
      "source": [
        "plot(model_run1)"
      ]
    },
    {
      "cell_type": "markdown",
      "source": [
        "See the history of the model"
      ],
      "metadata": {
        "id": "XkQvokpDajcA"
      }
    },
    {
      "cell_type": "code",
      "source": [
        "model_run1.history"
      ],
      "metadata": {
        "colab": {
          "base_uri": "https://localhost:8080/"
        },
        "id": "GvoXHNF2YfJf",
        "outputId": "76df5501-511c-458f-9fc8-1cdba3987d24"
      },
      "execution_count": null,
      "outputs": [
        {
          "output_type": "execute_result",
          "data": {
            "text/plain": [
              "{'loss': [nan, nan, nan, nan, nan, nan, nan, nan, nan, nan],\n",
              " 'mae': [nan, nan, nan, nan, nan, nan, nan, nan, nan, nan],\n",
              " 'val_loss': [nan, nan, nan, nan, nan, nan, nan, nan, nan, nan],\n",
              " 'val_mae': [nan, nan, nan, nan, nan, nan, nan, nan, nan, nan]}"
            ]
          },
          "metadata": {},
          "execution_count": 21
        }
      ]
    },
    {
      "cell_type": "markdown",
      "source": [
        "Perform a model fit to evaluate predictive abilities"
      ],
      "metadata": {
        "id": "0cfN5rzScAX8"
      }
    },
    {
      "cell_type": "code",
      "source": [
        "model = design_model(features_train_scaled, learning_rate)\n",
        "model.fit(\n",
        "    features_train_scaled,\n",
        "    labels_train,\n",
        "    batch_size=2,\n",
        "    epochs=10,\n",
        "    )"
      ],
      "metadata": {
        "id": "3Aj_a_8EZpBD"
      },
      "execution_count": null,
      "outputs": []
    },
    {
      "cell_type": "markdown",
      "source": [
        "Evaluate the model and generate predictions"
      ],
      "metadata": {
        "id": "y34LbmMlcTYZ"
      }
    },
    {
      "cell_type": "code",
      "execution_count": null,
      "metadata": {
        "id": "lyLxKIpfIPQc"
      },
      "outputs": [],
      "source": [
        "# Evaluate the model on the test data using `evaluate`\n",
        "print(\"Evaluate on test data\")\n",
        "results = model.evaluate(features_test_scaled, labels_test, batch_size=128)\n",
        "print(\"test loss, test acc:\", results)\n",
        "\n",
        "# Generate predictions (probabilities -- the output of the last layer)\n",
        "# on new data using `predict`\n",
        "print(\"Generate predictions for 3 samples\")\n",
        "predictions = model.predict(features_test_scaled[:3])\n",
        "print(\"predictions shape:\", predictions.shape)"
      ]
    }
  ],
  "metadata": {
    "colab": {
      "provenance": []
    },
    "kernelspec": {
      "display_name": "Python 3",
      "name": "python3"
    },
    "language_info": {
      "name": "python"
    }
  },
  "nbformat": 4,
  "nbformat_minor": 0
}